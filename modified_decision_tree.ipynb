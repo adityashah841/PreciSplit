{
  "metadata": {
    "colab": {
      "provenance": [],
      "collapsed_sections": [
        "Mw9J_Z9Kt0PP",
        "sy16v8zTt-nP",
        "Kw3La_XjtdCS"
      ],
      "include_colab_link": true
    },
    "kernelspec": {
      "display_name": "Python 3",
      "language": "python",
      "name": "python3"
    },
    "language_info": {
      "name": "python",
      "version": "3.7.12",
      "mimetype": "text/x-python",
      "codemirror_mode": {
        "name": "ipython",
        "version": 3
      },
      "pygments_lexer": "ipython3",
      "nbconvert_exporter": "python",
      "file_extension": ".py"
    }
  },
  "nbformat_minor": 0,
  "nbformat": 4,
  "cells": [
    {
      "cell_type": "markdown",
      "metadata": {
        "id": "view-in-github",
        "colab_type": "text"
      },
      "source": [
        "<a href=\"https://colab.research.google.com/github/adityashah841/Feature-engineering-and-parallelization-for-polynomial-regression-models-using-CART/blob/main/modified_decision_tree.ipynb\" target=\"_parent\"><img src=\"https://colab.research.google.com/assets/colab-badge.svg\" alt=\"Open In Colab\"/></a>"
      ]
    },
    {
      "cell_type": "code",
      "source": [
        "import numpy as np\n",
        "import pandas as pd"
      ],
      "metadata": {
        "execution": {
          "iopub.status.busy": "2023-03-05T13:22:44.829980Z",
          "iopub.execute_input": "2023-03-05T13:22:44.830472Z",
          "iopub.status.idle": "2023-03-05T13:22:44.836045Z",
          "shell.execute_reply.started": "2023-03-05T13:22:44.830416Z",
          "shell.execute_reply": "2023-03-05T13:22:44.834835Z"
        },
        "trusted": true,
        "id": "2B7YkfVvApuq"
      },
      "execution_count": null,
      "outputs": []
    },
    {
      "cell_type": "code",
      "source": [
        "import psutil\n",
        "import multiprocessing as mp\n",
        "import time\n",
        "\n",
        "def print_cpu_utilization(func, *args):\n",
        "    \n",
        "    start = time.time()\n",
        "    \n",
        "    # Start a separate process to run the given function\n",
        "    p = mp.Process(target=func, args=args)\n",
        "    p.start()\n",
        "\n",
        "    # Keep printing CPU utilization while the function is running\n",
        "    while p.is_alive():\n",
        "        cpu_percent = psutil.cpu_percent(percpu=True)\n",
        "        print(\"CPU utilization:\", cpu_percent)\n",
        "        time.sleep(1)\n",
        "\n",
        "    # Wait for the function to finish and join the process\n",
        "    p.join()\n",
        "    \n",
        "    print(f\"Time taken by process: {time.time() - start}\")\n"
      ],
      "metadata": {
        "execution": {
          "iopub.status.busy": "2023-03-05T13:34:05.926790Z",
          "iopub.status.idle": "2023-03-05T13:34:05.934715Z",
          "shell.execute_reply.started": "2023-03-05T13:34:05.933977Z",
          "shell.execute_reply": "2023-03-05T13:34:05.934072Z"
        },
        "trusted": true,
        "id": "tU-N709eApus"
      },
      "execution_count": 51,
      "outputs": []
    },
    {
      "cell_type": "code",
      "source": [
        "from sklearn.tree import DecisionTreeRegressor, _tree\n",
        "def filter_dataset_by_tree(model, X_train, y_train):\n",
        "    \"\"\"\n",
        "    Filters the training set X_train into multiple subsets by going through the decision tree model and\n",
        "    filtering the dataset, and returns a list of these subsets created at each leaf node. It also concatenates\n",
        "    the corresponding y_train values with each subset.\n",
        "\n",
        "    Args:\n",
        "    - model: A trained scikit-learn decision tree regressor model.\n",
        "    - X_train: The training set as a numpy array or pandas DataFrame.\n",
        "    - y_train: The target variable as a numpy array or pandas Series.\n",
        "\n",
        "    Returns:\n",
        "    - A list of subsets, where each subset contains concatenated subset of the training set (as a numpy array\n",
        "      or pandas DataFrame) and the corresponding target variable values (as a numpy array or pandas Series).\n",
        "      Each subset corresponds to a leaf node in the decision tree.\n",
        "    \"\"\"\n",
        "    # Get the leaf node indices for each data point in the training set\n",
        "    leaf_node_indices = model.apply(X_train)\n",
        "\n",
        "    # Get the unique leaf node indices\n",
        "    unique_leaf_node_indices = np.unique(leaf_node_indices)\n",
        "\n",
        "    # Create a list to store the subsets of the training set and their corresponding target variable values\n",
        "    subsets = []\n",
        "\n",
        "    # For each leaf node, filter the training set and target variable and append the resulting subset and target variable values to the list\n",
        "    for node_idx in unique_leaf_node_indices:\n",
        "        mask = leaf_node_indices == node_idx\n",
        "        subset_X = X_train[mask]\n",
        "        subset_y = y_train[mask]\n",
        "        subsets.append(np.concatenate((subset_X, subset_y),axis=1))\n",
        "\n",
        "    return subsets\n"
      ],
      "metadata": {
        "execution": {
          "iopub.status.busy": "2023-03-05T13:22:45.458806Z",
          "iopub.execute_input": "2023-03-05T13:22:45.459687Z",
          "iopub.status.idle": "2023-03-05T13:22:46.247615Z",
          "shell.execute_reply.started": "2023-03-05T13:22:45.459641Z",
          "shell.execute_reply": "2023-03-05T13:22:46.245972Z"
        },
        "trusted": true,
        "id": "cuJ04eksAput"
      },
      "execution_count": null,
      "outputs": []
    },
    {
      "cell_type": "code",
      "source": [
        "from sklearn.preprocessing import PolynomialFeatures\n",
        "from sklearn.linear_model import LinearRegression"
      ],
      "metadata": {
        "execution": {
          "iopub.status.busy": "2023-03-05T13:22:46.250644Z",
          "iopub.execute_input": "2023-03-05T13:22:46.251252Z",
          "iopub.status.idle": "2023-03-05T13:22:46.257308Z",
          "shell.execute_reply.started": "2023-03-05T13:22:46.251192Z",
          "shell.execute_reply": "2023-03-05T13:22:46.255818Z"
        },
        "trusted": true,
        "id": "FdaiRo25Apuu"
      },
      "execution_count": null,
      "outputs": []
    },
    {
      "cell_type": "code",
      "source": [
        "import multiprocessing\n",
        "\n",
        "cores = multiprocessing.cpu_count() # Count the number of cores in a computer\n",
        "cores"
      ],
      "metadata": {
        "execution": {
          "iopub.status.busy": "2023-03-05T13:22:46.394824Z",
          "iopub.execute_input": "2023-03-05T13:22:46.395247Z",
          "iopub.status.idle": "2023-03-05T13:22:46.406493Z",
          "shell.execute_reply.started": "2023-03-05T13:22:46.395212Z",
          "shell.execute_reply": "2023-03-05T13:22:46.404895Z"
        },
        "trusted": true,
        "colab": {
          "base_uri": "https://localhost:8080/"
        },
        "id": "LQP4EhP5Apuv",
        "outputId": "9c51cecb-c718-475b-babc-8051e2dfc6c7"
      },
      "execution_count": null,
      "outputs": [
        {
          "output_type": "execute_result",
          "data": {
            "text/plain": [
              "2"
            ]
          },
          "metadata": {},
          "execution_count": 5
        }
      ]
    },
    {
      "cell_type": "code",
      "source": [
        "from sklearn.datasets import fetch_covtype\n",
        "\n",
        "# Load the dataset\n",
        "data = fetch_covtype(as_frame=True)\n",
        "\n",
        "# Separate the data into features and target\n",
        "X = data.data\n",
        "y = data.target"
      ],
      "metadata": {
        "execution": {
          "iopub.status.busy": "2023-03-05T13:22:47.727907Z",
          "iopub.execute_input": "2023-03-05T13:22:47.728340Z",
          "iopub.status.idle": "2023-03-05T13:24:16.267461Z",
          "shell.execute_reply.started": "2023-03-05T13:22:47.728302Z",
          "shell.execute_reply": "2023-03-05T13:24:16.266431Z"
        },
        "trusted": true,
        "id": "K14SzxcrApuw"
      },
      "execution_count": null,
      "outputs": []
    },
    {
      "cell_type": "code",
      "source": [
        "X,y"
      ],
      "metadata": {
        "colab": {
          "base_uri": "https://localhost:8080/"
        },
        "id": "VaCotwV-7clP",
        "outputId": "3968e8f9-d082-450e-973f-6ce9e856ab76"
      },
      "execution_count": null,
      "outputs": [
        {
          "output_type": "execute_result",
          "data": {
            "text/plain": [
              "(        Elevation  Aspect  Slope  Horizontal_Distance_To_Hydrology  \\\n",
              " 0          2596.0    51.0    3.0                             258.0   \n",
              " 1          2590.0    56.0    2.0                             212.0   \n",
              " 2          2804.0   139.0    9.0                             268.0   \n",
              " 3          2785.0   155.0   18.0                             242.0   \n",
              " 4          2595.0    45.0    2.0                             153.0   \n",
              " ...           ...     ...    ...                               ...   \n",
              " 581007     2396.0   153.0   20.0                              85.0   \n",
              " 581008     2391.0   152.0   19.0                              67.0   \n",
              " 581009     2386.0   159.0   17.0                              60.0   \n",
              " 581010     2384.0   170.0   15.0                              60.0   \n",
              " 581011     2383.0   165.0   13.0                              60.0   \n",
              " \n",
              "         Vertical_Distance_To_Hydrology  Horizontal_Distance_To_Roadways  \\\n",
              " 0                                  0.0                            510.0   \n",
              " 1                                 -6.0                            390.0   \n",
              " 2                                 65.0                           3180.0   \n",
              " 3                                118.0                           3090.0   \n",
              " 4                                 -1.0                            391.0   \n",
              " ...                                ...                              ...   \n",
              " 581007                            17.0                            108.0   \n",
              " 581008                            12.0                             95.0   \n",
              " 581009                             7.0                             90.0   \n",
              " 581010                             5.0                             90.0   \n",
              " 581011                             4.0                             67.0   \n",
              " \n",
              "         Hillshade_9am  Hillshade_Noon  Hillshade_3pm  \\\n",
              " 0               221.0           232.0          148.0   \n",
              " 1               220.0           235.0          151.0   \n",
              " 2               234.0           238.0          135.0   \n",
              " 3               238.0           238.0          122.0   \n",
              " 4               220.0           234.0          150.0   \n",
              " ...               ...             ...            ...   \n",
              " 581007          240.0           237.0          118.0   \n",
              " 581008          240.0           237.0          119.0   \n",
              " 581009          236.0           241.0          130.0   \n",
              " 581010          230.0           245.0          143.0   \n",
              " 581011          231.0           244.0          141.0   \n",
              " \n",
              "         Horizontal_Distance_To_Fire_Points  ...  Soil_Type_30  Soil_Type_31  \\\n",
              " 0                                   6279.0  ...           0.0           0.0   \n",
              " 1                                   6225.0  ...           0.0           0.0   \n",
              " 2                                   6121.0  ...           0.0           0.0   \n",
              " 3                                   6211.0  ...           0.0           0.0   \n",
              " 4                                   6172.0  ...           0.0           0.0   \n",
              " ...                                    ...  ...           ...           ...   \n",
              " 581007                               837.0  ...           0.0           0.0   \n",
              " 581008                               845.0  ...           0.0           0.0   \n",
              " 581009                               854.0  ...           0.0           0.0   \n",
              " 581010                               864.0  ...           0.0           0.0   \n",
              " 581011                               875.0  ...           0.0           0.0   \n",
              " \n",
              "         Soil_Type_32  Soil_Type_33  Soil_Type_34  Soil_Type_35  Soil_Type_36  \\\n",
              " 0                0.0           0.0           0.0           0.0           0.0   \n",
              " 1                0.0           0.0           0.0           0.0           0.0   \n",
              " 2                0.0           0.0           0.0           0.0           0.0   \n",
              " 3                0.0           0.0           0.0           0.0           0.0   \n",
              " 4                0.0           0.0           0.0           0.0           0.0   \n",
              " ...              ...           ...           ...           ...           ...   \n",
              " 581007           0.0           0.0           0.0           0.0           0.0   \n",
              " 581008           0.0           0.0           0.0           0.0           0.0   \n",
              " 581009           0.0           0.0           0.0           0.0           0.0   \n",
              " 581010           0.0           0.0           0.0           0.0           0.0   \n",
              " 581011           0.0           0.0           0.0           0.0           0.0   \n",
              " \n",
              "         Soil_Type_37  Soil_Type_38  Soil_Type_39  \n",
              " 0                0.0           0.0           0.0  \n",
              " 1                0.0           0.0           0.0  \n",
              " 2                0.0           0.0           0.0  \n",
              " 3                0.0           0.0           0.0  \n",
              " 4                0.0           0.0           0.0  \n",
              " ...              ...           ...           ...  \n",
              " 581007           0.0           0.0           0.0  \n",
              " 581008           0.0           0.0           0.0  \n",
              " 581009           0.0           0.0           0.0  \n",
              " 581010           0.0           0.0           0.0  \n",
              " 581011           0.0           0.0           0.0  \n",
              " \n",
              " [581012 rows x 54 columns],\n",
              " 0         5\n",
              " 1         5\n",
              " 2         2\n",
              " 3         2\n",
              " 4         5\n",
              "          ..\n",
              " 581007    3\n",
              " 581008    3\n",
              " 581009    3\n",
              " 581010    3\n",
              " 581011    3\n",
              " Name: Cover_Type, Length: 581012, dtype: int32)"
            ]
          },
          "metadata": {},
          "execution_count": 7
        }
      ]
    },
    {
      "cell_type": "code",
      "source": [
        "from sklearn.tree import DecisionTreeRegressor\n",
        "regressor = DecisionTreeRegressor(max_depth=3)\n",
        "regressor.fit(X,y)"
      ],
      "metadata": {
        "execution": {
          "iopub.status.busy": "2023-03-05T13:24:16.446813Z",
          "iopub.execute_input": "2023-03-05T13:24:16.447167Z",
          "iopub.status.idle": "2023-03-05T13:24:16.567185Z",
          "shell.execute_reply.started": "2023-03-05T13:24:16.447133Z",
          "shell.execute_reply": "2023-03-05T13:24:16.565971Z"
        },
        "trusted": true,
        "colab": {
          "base_uri": "https://localhost:8080/",
          "height": 75
        },
        "id": "dI-4tTEzApuz",
        "outputId": "c0e72455-957e-4213-c96d-27aed2d6d292"
      },
      "execution_count": 25,
      "outputs": [
        {
          "output_type": "execute_result",
          "data": {
            "text/plain": [
              "DecisionTreeRegressor(max_depth=3)"
            ],
            "text/html": [
              "<style>#sk-container-id-2 {color: black;background-color: white;}#sk-container-id-2 pre{padding: 0;}#sk-container-id-2 div.sk-toggleable {background-color: white;}#sk-container-id-2 label.sk-toggleable__label {cursor: pointer;display: block;width: 100%;margin-bottom: 0;padding: 0.3em;box-sizing: border-box;text-align: center;}#sk-container-id-2 label.sk-toggleable__label-arrow:before {content: \"▸\";float: left;margin-right: 0.25em;color: #696969;}#sk-container-id-2 label.sk-toggleable__label-arrow:hover:before {color: black;}#sk-container-id-2 div.sk-estimator:hover label.sk-toggleable__label-arrow:before {color: black;}#sk-container-id-2 div.sk-toggleable__content {max-height: 0;max-width: 0;overflow: hidden;text-align: left;background-color: #f0f8ff;}#sk-container-id-2 div.sk-toggleable__content pre {margin: 0.2em;color: black;border-radius: 0.25em;background-color: #f0f8ff;}#sk-container-id-2 input.sk-toggleable__control:checked~div.sk-toggleable__content {max-height: 200px;max-width: 100%;overflow: auto;}#sk-container-id-2 input.sk-toggleable__control:checked~label.sk-toggleable__label-arrow:before {content: \"▾\";}#sk-container-id-2 div.sk-estimator input.sk-toggleable__control:checked~label.sk-toggleable__label {background-color: #d4ebff;}#sk-container-id-2 div.sk-label input.sk-toggleable__control:checked~label.sk-toggleable__label {background-color: #d4ebff;}#sk-container-id-2 input.sk-hidden--visually {border: 0;clip: rect(1px 1px 1px 1px);clip: rect(1px, 1px, 1px, 1px);height: 1px;margin: -1px;overflow: hidden;padding: 0;position: absolute;width: 1px;}#sk-container-id-2 div.sk-estimator {font-family: monospace;background-color: #f0f8ff;border: 1px dotted black;border-radius: 0.25em;box-sizing: border-box;margin-bottom: 0.5em;}#sk-container-id-2 div.sk-estimator:hover {background-color: #d4ebff;}#sk-container-id-2 div.sk-parallel-item::after {content: \"\";width: 100%;border-bottom: 1px solid gray;flex-grow: 1;}#sk-container-id-2 div.sk-label:hover label.sk-toggleable__label {background-color: #d4ebff;}#sk-container-id-2 div.sk-serial::before {content: \"\";position: absolute;border-left: 1px solid gray;box-sizing: border-box;top: 0;bottom: 0;left: 50%;z-index: 0;}#sk-container-id-2 div.sk-serial {display: flex;flex-direction: column;align-items: center;background-color: white;padding-right: 0.2em;padding-left: 0.2em;position: relative;}#sk-container-id-2 div.sk-item {position: relative;z-index: 1;}#sk-container-id-2 div.sk-parallel {display: flex;align-items: stretch;justify-content: center;background-color: white;position: relative;}#sk-container-id-2 div.sk-item::before, #sk-container-id-2 div.sk-parallel-item::before {content: \"\";position: absolute;border-left: 1px solid gray;box-sizing: border-box;top: 0;bottom: 0;left: 50%;z-index: -1;}#sk-container-id-2 div.sk-parallel-item {display: flex;flex-direction: column;z-index: 1;position: relative;background-color: white;}#sk-container-id-2 div.sk-parallel-item:first-child::after {align-self: flex-end;width: 50%;}#sk-container-id-2 div.sk-parallel-item:last-child::after {align-self: flex-start;width: 50%;}#sk-container-id-2 div.sk-parallel-item:only-child::after {width: 0;}#sk-container-id-2 div.sk-dashed-wrapped {border: 1px dashed gray;margin: 0 0.4em 0.5em 0.4em;box-sizing: border-box;padding-bottom: 0.4em;background-color: white;}#sk-container-id-2 div.sk-label label {font-family: monospace;font-weight: bold;display: inline-block;line-height: 1.2em;}#sk-container-id-2 div.sk-label-container {text-align: center;}#sk-container-id-2 div.sk-container {/* jupyter's `normalize.less` sets `[hidden] { display: none; }` but bootstrap.min.css set `[hidden] { display: none !important; }` so we also need the `!important` here to be able to override the default hidden behavior on the sphinx rendered scikit-learn.org. See: https://github.com/scikit-learn/scikit-learn/issues/21755 */display: inline-block !important;position: relative;}#sk-container-id-2 div.sk-text-repr-fallback {display: none;}</style><div id=\"sk-container-id-2\" class=\"sk-top-container\"><div class=\"sk-text-repr-fallback\"><pre>DecisionTreeRegressor(max_depth=3)</pre><b>In a Jupyter environment, please rerun this cell to show the HTML representation or trust the notebook. <br />On GitHub, the HTML representation is unable to render, please try loading this page with nbviewer.org.</b></div><div class=\"sk-container\" hidden><div class=\"sk-item\"><div class=\"sk-estimator sk-toggleable\"><input class=\"sk-toggleable__control sk-hidden--visually\" id=\"sk-estimator-id-2\" type=\"checkbox\" checked><label for=\"sk-estimator-id-2\" class=\"sk-toggleable__label sk-toggleable__label-arrow\">DecisionTreeRegressor</label><div class=\"sk-toggleable__content\"><pre>DecisionTreeRegressor(max_depth=3)</pre></div></div></div></div></div>"
            ]
          },
          "metadata": {},
          "execution_count": 25
        }
      ]
    },
    {
      "cell_type": "code",
      "source": [
        "subsets = filter_dataset_by_tree(regressor,X,y.to_numpy().reshape(-1,1))\n",
        "for s in subsets:\n",
        "  print(len(s))"
      ],
      "metadata": {
        "execution": {
          "iopub.status.busy": "2023-03-05T13:24:16.568613Z",
          "iopub.execute_input": "2023-03-05T13:24:16.568947Z",
          "iopub.status.idle": "2023-03-05T13:24:16.595379Z",
          "shell.execute_reply.started": "2023-03-05T13:24:16.568914Z",
          "shell.execute_reply": "2023-03-05T13:24:16.594122Z"
        },
        "trusted": true,
        "colab": {
          "base_uri": "https://localhost:8080/"
        },
        "id": "LYspuLkhApu0",
        "outputId": "1f30a5cb-b54e-49e4-839d-df6e57b72e7e"
      },
      "execution_count": 27,
      "outputs": [
        {
          "output_type": "stream",
          "name": "stdout",
          "text": [
            "39726\n",
            "12886\n",
            "4485\n",
            "412\n",
            "153065\n",
            "344797\n",
            "12740\n",
            "12901\n"
          ]
        }
      ]
    },
    {
      "cell_type": "code",
      "source": [
        "Xy = subsets[0]\n",
        "Xy.shape\n",
        "y = Xy[:,-1]\n",
        "X = Xy[:,:-1]\n",
        "\n",
        "X.shape, y.shape"
      ],
      "metadata": {
        "colab": {
          "base_uri": "https://localhost:8080/"
        },
        "id": "DYUTFQrtn-c_",
        "outputId": "ddcfdc17-b517-4813-dd77-cd07ecbbece8"
      },
      "execution_count": 34,
      "outputs": [
        {
          "output_type": "execute_result",
          "data": {
            "text/plain": [
              "((39726, 54), (39726,))"
            ]
          },
          "metadata": {},
          "execution_count": 34
        }
      ]
    },
    {
      "cell_type": "code",
      "source": [
        "from sklearn.model_selection import train_test_split\n",
        "X_train, X_test, y_train, y_test = train_test_split(X,y,train_size=0.7,random_state=41)\n"
      ],
      "metadata": {
        "execution": {
          "iopub.status.busy": "2023-03-05T13:24:16.269440Z",
          "iopub.execute_input": "2023-03-05T13:24:16.270488Z",
          "iopub.status.idle": "2023-03-05T13:24:16.420913Z",
          "shell.execute_reply.started": "2023-03-05T13:24:16.270442Z",
          "shell.execute_reply": "2023-03-05T13:24:16.419610Z"
        },
        "trusted": true,
        "id": "jQ6iz54mApuw"
      },
      "execution_count": 35,
      "outputs": []
    },
    {
      "cell_type": "code",
      "source": [
        "len(X_train)"
      ],
      "metadata": {
        "execution": {
          "iopub.status.busy": "2023-03-05T13:34:25.967261Z",
          "iopub.execute_input": "2023-03-05T13:34:25.968157Z",
          "iopub.status.idle": "2023-03-05T13:34:25.994651Z",
          "shell.execute_reply.started": "2023-03-05T13:34:25.968065Z",
          "shell.execute_reply": "2023-03-05T13:34:25.992436Z"
        },
        "trusted": true,
        "colab": {
          "base_uri": "https://localhost:8080/"
        },
        "id": "LFbN1WhwApux",
        "outputId": "e89ba9fb-9cb9-406d-a291-07af3e2bdd0f"
      },
      "execution_count": 36,
      "outputs": [
        {
          "output_type": "execute_result",
          "data": {
            "text/plain": [
              "27808"
            ]
          },
          "metadata": {},
          "execution_count": 36
        }
      ]
    },
    {
      "cell_type": "code",
      "source": [
        "# Define the training function for each model\n",
        "def train_model(X, y, model):\n",
        "    model.fit(X, y)"
      ],
      "metadata": {
        "execution": {
          "iopub.status.busy": "2023-03-05T13:24:16.434399Z",
          "iopub.execute_input": "2023-03-05T13:24:16.434991Z",
          "iopub.status.idle": "2023-03-05T13:24:16.445250Z",
          "shell.execute_reply.started": "2023-03-05T13:24:16.434936Z",
          "shell.execute_reply": "2023-03-05T13:24:16.443936Z"
        },
        "trusted": true,
        "id": "MSVHsW6oApuz"
      },
      "execution_count": null,
      "outputs": []
    },
    {
      "cell_type": "code",
      "source": [
        "from sklearn.metrics import r2_score\n",
        "def get_r2(model,X,y):\n",
        "  pred = model.predict(X)\n",
        "  print(f\"Model {model} accuracy:\", r2_score(y, pred))"
      ],
      "metadata": {
        "execution": {
          "iopub.status.busy": "2023-03-05T13:24:16.596949Z",
          "iopub.execute_input": "2023-03-05T13:24:16.597935Z",
          "iopub.status.idle": "2023-03-05T13:24:16.603884Z",
          "shell.execute_reply.started": "2023-03-05T13:24:16.597893Z",
          "shell.execute_reply": "2023-03-05T13:24:16.602396Z"
        },
        "trusted": true,
        "id": "WSx5zsNiApu0"
      },
      "execution_count": null,
      "outputs": []
    },
    {
      "cell_type": "code",
      "source": [
        "from sklearn.preprocessing import PolynomialFeatures\n",
        "from sklearn.linear_model import LinearRegression"
      ],
      "metadata": {
        "execution": {
          "iopub.status.busy": "2023-03-05T13:24:16.605912Z",
          "iopub.execute_input": "2023-03-05T13:24:16.606279Z",
          "iopub.status.idle": "2023-03-05T13:24:16.616601Z",
          "shell.execute_reply.started": "2023-03-05T13:24:16.606242Z",
          "shell.execute_reply": "2023-03-05T13:24:16.615077Z"
        },
        "trusted": true,
        "id": "XsmFTQtBApu1"
      },
      "execution_count": null,
      "outputs": []
    },
    {
      "cell_type": "code",
      "source": [
        "poly = PolynomialFeatures(degree=2, include_bias=False)\n",
        "poly_X_train = poly.fit_transform(X_train)\n",
        "poly_X_test = poly.fit_transform(X_test)"
      ],
      "metadata": {
        "execution": {
          "iopub.status.busy": "2023-03-05T13:24:16.618353Z",
          "iopub.execute_input": "2023-03-05T13:24:16.618733Z",
          "iopub.status.idle": "2023-03-05T13:24:21.428843Z",
          "shell.execute_reply.started": "2023-03-05T13:24:16.618696Z",
          "shell.execute_reply": "2023-03-05T13:24:21.427265Z"
        },
        "trusted": true,
        "id": "aQugHQScApu1"
      },
      "execution_count": 55,
      "outputs": []
    },
    {
      "cell_type": "code",
      "source": [
        "model = LinearRegression()\n",
        "model.fit(poly_X_train,y_train)\n",
        "# print_cpu_utilization(train_model,poly_X_train,y_train,model)\n",
        "print('R2:', get_r2(model,poly_X_test,y_test))"
      ],
      "metadata": {
        "colab": {
          "base_uri": "https://localhost:8080/"
        },
        "id": "52evx8D_pmfC",
        "outputId": "3acbf80f-7680-4766-f77c-59d9bfadeea7"
      },
      "execution_count": 53,
      "outputs": [
        {
          "output_type": "stream",
          "name": "stdout",
          "text": [
            "Model LinearRegression() accuracy: 0.28139085715726275\n",
            "R2: None\n"
          ]
        }
      ]
    },
    {
      "cell_type": "code",
      "source": [
        "from sklearn.linear_model import SGDRegressor\n",
        "\n",
        "model = SGDRegressor(early_stopping = False,\n",
        "                     validation_fraction = 0.3)\n",
        "\n",
        "model.fit(poly_X_train,y_train)\n",
        "# print_cpu_utilization(train_model,poly_X_train,y_train,model)\n",
        "print('R2:', get_r2(model,poly_X_test,y_test))"
      ],
      "metadata": {
        "colab": {
          "base_uri": "https://localhost:8080/"
        },
        "id": "wczkQei09Aqp",
        "outputId": "65a1a302-cbe2-43cc-9d6c-662c470ad6f1"
      },
      "execution_count": 54,
      "outputs": [
        {
          "output_type": "stream",
          "name": "stdout",
          "text": [
            "Model SGDRegressor(validation_fraction=0.3) accuracy: -6.715379812218542e+41\n",
            "R2: None\n"
          ]
        }
      ]
    },
    {
      "cell_type": "code",
      "source": [
        "model = SGDRegressor(early_stopping = True,\n",
        "                     validation_fraction = 0.3)\n",
        "\n",
        "model.fit(poly_X_train,y_train)\n",
        "#print_cpu_utilization(train_model,poly_X_train,y_train,model)\n",
        "print('R2:', get_r2(model,poly_X_test,y_test))"
      ],
      "metadata": {
        "id": "aD0CC7DjApu2",
        "colab": {
          "base_uri": "https://localhost:8080/"
        },
        "outputId": "2b96f610-3575-4e9b-af7b-9f2c8b53e5ed"
      },
      "execution_count": 42,
      "outputs": [
        {
          "output_type": "stream",
          "name": "stdout",
          "text": [
            "Model SGDRegressor(early_stopping=True, validation_fraction=0.3) accuracy: -1.4235912304056333e+30\n",
            "R2: None\n"
          ]
        }
      ]
    },
    {
      "cell_type": "code",
      "source": [],
      "metadata": {
        "id": "ZEH9TsAmphXv"
      },
      "execution_count": null,
      "outputs": []
    }
  ]
}